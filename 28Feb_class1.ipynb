{
 "cells": [
  {
   "cell_type": "code",
   "execution_count": 1,
   "id": "125d4c1a",
   "metadata": {},
   "outputs": [],
   "source": [
    "#First class in python"
   ]
  },
  {
   "cell_type": "code",
   "execution_count": 2,
   "id": "bac0b8de",
   "metadata": {},
   "outputs": [
    {
     "name": "stdout",
     "output_type": "stream",
     "text": [
      "Hello World\n"
     ]
    }
   ],
   "source": [
    "print('Hello World')"
   ]
  },
  {
   "cell_type": "code",
   "execution_count": 3,
   "id": "b6c6ed55",
   "metadata": {},
   "outputs": [
    {
     "name": "stdout",
     "output_type": "stream",
     "text": [
      "5\n"
     ]
    }
   ],
   "source": [
    "a = 5 \n",
    "print (a)"
   ]
  },
  {
   "cell_type": "code",
   "execution_count": 4,
   "id": "438a90ad",
   "metadata": {},
   "outputs": [
    {
     "name": "stdout",
     "output_type": "stream",
     "text": [
      "5\n"
     ]
    },
    {
     "data": {
      "text/plain": [
       "NoneType"
      ]
     },
     "execution_count": 4,
     "metadata": {},
     "output_type": "execute_result"
    }
   ],
   "source": [
    "type(print(a))"
   ]
  },
  {
   "cell_type": "code",
   "execution_count": 5,
   "id": "a1af5c94",
   "metadata": {},
   "outputs": [],
   "source": [
    "#dynamic binding, static binding, dynamic typing, static typing,"
   ]
  },
  {
   "cell_type": "code",
   "execution_count": 16,
   "id": "da67c67e",
   "metadata": {},
   "outputs": [
    {
     "name": "stdout",
     "output_type": "stream",
     "text": [
      "enter the first number 5\n",
      "enter the second number 6\n",
      "output is : 11\n"
     ]
    }
   ],
   "source": [
    "first_number = int(input('enter the first number '))\n",
    "second_number= int(input('enter the second number '))\n",
    "c = first_number+second_number\n",
    "print('output is :',c)\n"
   ]
  },
  {
   "cell_type": "code",
   "execution_count": 23,
   "id": "29e0e415",
   "metadata": {},
   "outputs": [],
   "source": [
    "#operators\n",
    "\n",
    "#arithmetic (+,-,*,/,%,**,//)\n",
    "#relational (<,>,<=,>=,==,!=)\n",
    "#logical (and, or, not)\n",
    "#bitwise (|, &, ^)\n",
    "#assignment (=, +=, -=, **=)\n",
    "#membership ('x' in 'haldia','x' notin 'haldia')"
   ]
  },
  {
   "cell_type": "code",
   "execution_count": null,
   "id": "cfea2955",
   "metadata": {},
   "outputs": [],
   "source": []
  },
  {
   "cell_type": "code",
   "execution_count": null,
   "id": "20ce2da2",
   "metadata": {},
   "outputs": [],
   "source": []
  },
  {
   "cell_type": "code",
   "execution_count": null,
   "id": "77ff8864",
   "metadata": {},
   "outputs": [],
   "source": []
  },
  {
   "cell_type": "code",
   "execution_count": null,
   "id": "63ddc66b",
   "metadata": {},
   "outputs": [],
   "source": []
  },
  {
   "cell_type": "code",
   "execution_count": null,
   "id": "512ffaed",
   "metadata": {},
   "outputs": [],
   "source": []
  }
 ],
 "metadata": {
  "kernelspec": {
   "display_name": "Python 3",
   "language": "python",
   "name": "python3"
  },
  "language_info": {
   "codemirror_mode": {
    "name": "ipython",
    "version": 3
   },
   "file_extension": ".py",
   "mimetype": "text/x-python",
   "name": "python",
   "nbconvert_exporter": "python",
   "pygments_lexer": "ipython3",
   "version": "3.8.8"
  }
 },
 "nbformat": 4,
 "nbformat_minor": 5
}
