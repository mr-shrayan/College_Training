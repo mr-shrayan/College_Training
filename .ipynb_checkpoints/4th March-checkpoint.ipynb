{
 "cells": [
  {
   "cell_type": "code",
   "execution_count": 1,
   "id": "fb54f35b",
   "metadata": {},
   "outputs": [],
   "source": [
    "#List\n",
    "#tuples\n",
    "#sets\n",
    "#dictionaries\n",
    "#practice Problems"
   ]
  },
  {
   "cell_type": "code",
   "execution_count": null,
   "id": "f88a599a",
   "metadata": {},
   "outputs": [],
   "source": []
  },
  {
   "cell_type": "code",
   "execution_count": 2,
   "id": "720c65ee",
   "metadata": {},
   "outputs": [],
   "source": [
    "#Lists\n",
    "#create\n",
    "#access\n",
    "#edit\n",
    "#add\n",
    "#delete\n",
    "#operations\n",
    "#functions"
   ]
  },
  {
   "cell_type": "code",
   "execution_count": 7,
   "id": "cc3ceffe",
   "metadata": {},
   "outputs": [],
   "source": [
    "l1 = [1,2,3,4,5,6] #homogeneous lists (containing the same data type - int)"
   ]
  },
  {
   "cell_type": "code",
   "execution_count": 8,
   "id": "4dc97602",
   "metadata": {},
   "outputs": [
    {
     "data": {
      "text/plain": [
       "[1, 2, 3, 4, 5, 6]"
      ]
     },
     "execution_count": 8,
     "metadata": {},
     "output_type": "execute_result"
    }
   ],
   "source": [
    "l1"
   ]
  },
  {
   "cell_type": "code",
   "execution_count": 9,
   "id": "9f9c1b41",
   "metadata": {},
   "outputs": [],
   "source": [
    "l2 = [1,'Hello', 2.4, True] #heterogeneous (Contaonign multiple data type - int, string, float, boolean )"
   ]
  },
  {
   "cell_type": "code",
   "execution_count": 11,
   "id": "18dd63d6",
   "metadata": {},
   "outputs": [
    {
     "data": {
      "text/plain": [
       "[1, 'Hello', 2.4, True]"
      ]
     },
     "execution_count": 11,
     "metadata": {},
     "output_type": "execute_result"
    }
   ],
   "source": [
    "l2"
   ]
  },
  {
   "cell_type": "code",
   "execution_count": 12,
   "id": "5f6df970",
   "metadata": {},
   "outputs": [],
   "source": [
    "l3 = []"
   ]
  },
  {
   "cell_type": "code",
   "execution_count": 13,
   "id": "19334332",
   "metadata": {},
   "outputs": [
    {
     "data": {
      "text/plain": [
       "[]"
      ]
     },
     "execution_count": 13,
     "metadata": {},
     "output_type": "execute_result"
    }
   ],
   "source": [
    "l3"
   ]
  },
  {
   "cell_type": "code",
   "execution_count": 19,
   "id": "1feb1cbc",
   "metadata": {},
   "outputs": [],
   "source": [
    "l4 = [1,2,3,4,[5,6]] #Nested list/multi dimentional list (2d) - this is a hetrogeneous list (integer, list)"
   ]
  },
  {
   "cell_type": "code",
   "execution_count": 20,
   "id": "e8ed64d5",
   "metadata": {},
   "outputs": [
    {
     "data": {
      "text/plain": [
       "[1, 2, 3, 4, [5, 6]]"
      ]
     },
     "execution_count": 20,
     "metadata": {},
     "output_type": "execute_result"
    }
   ],
   "source": [
    "l4"
   ]
  },
  {
   "cell_type": "code",
   "execution_count": 50,
   "id": "363eda93",
   "metadata": {},
   "outputs": [],
   "source": [
    "l5 = [[[1,2],[3,4]],[[5,6],[7,8]]] #Nested list/multi dimentional list (3d) - This is a homogeneous list"
   ]
  },
  {
   "cell_type": "code",
   "execution_count": 51,
   "id": "f93bffa4",
   "metadata": {},
   "outputs": [
    {
     "data": {
      "text/plain": [
       "[[[1, 2], [3, 4]], [[5, 6], [7, 8]]]"
      ]
     },
     "execution_count": 51,
     "metadata": {},
     "output_type": "execute_result"
    }
   ],
   "source": [
    "l5"
   ]
  },
  {
   "cell_type": "code",
   "execution_count": 31,
   "id": "2eca669a",
   "metadata": {},
   "outputs": [],
   "source": [
    "l6 = list('GOA') "
   ]
  },
  {
   "cell_type": "code",
   "execution_count": 32,
   "id": "e078c1d5",
   "metadata": {},
   "outputs": [
    {
     "data": {
      "text/plain": [
       "['G', 'O', 'A']"
      ]
     },
     "execution_count": 32,
     "metadata": {},
     "output_type": "execute_result"
    }
   ],
   "source": [
    "l6"
   ]
  },
  {
   "cell_type": "code",
   "execution_count": 33,
   "id": "99798464",
   "metadata": {},
   "outputs": [],
   "source": [
    "#Access"
   ]
  },
  {
   "cell_type": "code",
   "execution_count": 39,
   "id": "40105bcd",
   "metadata": {},
   "outputs": [
    {
     "data": {
      "text/plain": [
       "[1, 2, 3, 4, 5, 6]"
      ]
     },
     "execution_count": 39,
     "metadata": {},
     "output_type": "execute_result"
    }
   ],
   "source": [
    "l1"
   ]
  },
  {
   "cell_type": "code",
   "execution_count": 34,
   "id": "3b724331",
   "metadata": {},
   "outputs": [
    {
     "data": {
      "text/plain": [
       "1"
      ]
     },
     "execution_count": 34,
     "metadata": {},
     "output_type": "execute_result"
    }
   ],
   "source": [
    "l1[0]"
   ]
  },
  {
   "cell_type": "code",
   "execution_count": 35,
   "id": "7c5dd11b",
   "metadata": {},
   "outputs": [
    {
     "data": {
      "text/plain": [
       "6"
      ]
     },
     "execution_count": 35,
     "metadata": {},
     "output_type": "execute_result"
    }
   ],
   "source": [
    "l1[-1]"
   ]
  },
  {
   "cell_type": "code",
   "execution_count": 37,
   "id": "04bf1154",
   "metadata": {},
   "outputs": [
    {
     "data": {
      "text/plain": [
       "[3, 4]"
      ]
     },
     "execution_count": 37,
     "metadata": {},
     "output_type": "execute_result"
    }
   ],
   "source": [
    "l1[2:4]"
   ]
  },
  {
   "cell_type": "code",
   "execution_count": 38,
   "id": "e77ea47f",
   "metadata": {},
   "outputs": [
    {
     "data": {
      "text/plain": [
       "[6, 5, 4, 3, 2, 1]"
      ]
     },
     "execution_count": 38,
     "metadata": {},
     "output_type": "execute_result"
    }
   ],
   "source": [
    "l1[::-1]"
   ]
  },
  {
   "cell_type": "code",
   "execution_count": 40,
   "id": "1a4a821a",
   "metadata": {},
   "outputs": [
    {
     "data": {
      "text/plain": [
       "[1, 2, 3, 4, [5, 6]]"
      ]
     },
     "execution_count": 40,
     "metadata": {},
     "output_type": "execute_result"
    }
   ],
   "source": [
    "l4"
   ]
  },
  {
   "cell_type": "code",
   "execution_count": 41,
   "id": "8c9e184c",
   "metadata": {},
   "outputs": [
    {
     "data": {
      "text/plain": [
       "[5, 6]"
      ]
     },
     "execution_count": 41,
     "metadata": {},
     "output_type": "execute_result"
    }
   ],
   "source": [
    "l4[-1]"
   ]
  },
  {
   "cell_type": "code",
   "execution_count": 42,
   "id": "f4a371c9",
   "metadata": {},
   "outputs": [
    {
     "data": {
      "text/plain": [
       "6"
      ]
     },
     "execution_count": 42,
     "metadata": {},
     "output_type": "execute_result"
    }
   ],
   "source": [
    "l4[-1][-1]"
   ]
  },
  {
   "cell_type": "code",
   "execution_count": 53,
   "id": "ecfbca7d",
   "metadata": {},
   "outputs": [
    {
     "data": {
      "text/plain": [
       "[[[1, 2], [3, 4]], [[5, 6], [7, 8]]]"
      ]
     },
     "execution_count": 53,
     "metadata": {},
     "output_type": "execute_result"
    }
   ],
   "source": [
    "l5"
   ]
  },
  {
   "cell_type": "code",
   "execution_count": 54,
   "id": "c9674b39",
   "metadata": {},
   "outputs": [
    {
     "data": {
      "text/plain": [
       "7"
      ]
     },
     "execution_count": 54,
     "metadata": {},
     "output_type": "execute_result"
    }
   ],
   "source": [
    "l5[-1][-1][0]"
   ]
  },
  {
   "cell_type": "code",
   "execution_count": 56,
   "id": "16487792",
   "metadata": {},
   "outputs": [
    {
     "data": {
      "text/plain": [
       "5"
      ]
     },
     "execution_count": 56,
     "metadata": {},
     "output_type": "execute_result"
    }
   ],
   "source": [
    "l5[-1][-2][-2]"
   ]
  },
  {
   "cell_type": "code",
   "execution_count": 57,
   "id": "41e6ff25",
   "metadata": {},
   "outputs": [],
   "source": [
    "#edit"
   ]
  },
  {
   "cell_type": "code",
   "execution_count": 60,
   "id": "6050aa4f",
   "metadata": {},
   "outputs": [],
   "source": [
    "l1[0] = 100 #lists are mutable"
   ]
  },
  {
   "cell_type": "code",
   "execution_count": 61,
   "id": "a9a6cb2a",
   "metadata": {},
   "outputs": [
    {
     "data": {
      "text/plain": [
       "[100, 2, 3, 4, 5, 6]"
      ]
     },
     "execution_count": 61,
     "metadata": {},
     "output_type": "execute_result"
    }
   ],
   "source": [
    "l1"
   ]
  },
  {
   "cell_type": "code",
   "execution_count": 66,
   "id": "50c74b3b",
   "metadata": {},
   "outputs": [],
   "source": [
    "l1[1:4] = [200,300,400,500,600] # i ran this code 3 times, thus the error below."
   ]
  },
  {
   "cell_type": "code",
   "execution_count": 67,
   "id": "3d1855c6",
   "metadata": {},
   "outputs": [
    {
     "data": {
      "text/plain": [
       "[100, 200, 300, 400, 500, 600, 400, 500, 600, 400, 5, 6]"
      ]
     },
     "execution_count": 67,
     "metadata": {},
     "output_type": "execute_result"
    }
   ],
   "source": [
    "l1"
   ]
  },
  {
   "cell_type": "code",
   "execution_count": 70,
   "id": "4aa8f404",
   "metadata": {},
   "outputs": [],
   "source": [
    "l2.append(600)"
   ]
  },
  {
   "cell_type": "code",
   "execution_count": 71,
   "id": "30d9f0a8",
   "metadata": {},
   "outputs": [
    {
     "data": {
      "text/plain": [
       "[1, 'Hello', 2.4, True, 600]"
      ]
     },
     "execution_count": 71,
     "metadata": {},
     "output_type": "execute_result"
    }
   ],
   "source": [
    "l2"
   ]
  },
  {
   "cell_type": "code",
   "execution_count": 73,
   "id": "9461389b",
   "metadata": {},
   "outputs": [],
   "source": [
    "l2.extend([700,800,900])"
   ]
  },
  {
   "cell_type": "code",
   "execution_count": 74,
   "id": "6ecd848e",
   "metadata": {},
   "outputs": [
    {
     "data": {
      "text/plain": [
       "[1, 'Hello', 2.4, True, 600, 700, 800, 900]"
      ]
     },
     "execution_count": 74,
     "metadata": {},
     "output_type": "execute_result"
    }
   ],
   "source": [
    "l2"
   ]
  },
  {
   "cell_type": "code",
   "execution_count": 75,
   "id": "25b3c0e8",
   "metadata": {},
   "outputs": [],
   "source": [
    "l2.insert(1,150)"
   ]
  },
  {
   "cell_type": "code",
   "execution_count": 76,
   "id": "e2a22585",
   "metadata": {},
   "outputs": [
    {
     "data": {
      "text/plain": [
       "[1, 150, 'Hello', 2.4, True, 600, 700, 800, 900]"
      ]
     },
     "execution_count": 76,
     "metadata": {},
     "output_type": "execute_result"
    }
   ],
   "source": [
    "l2"
   ]
  },
  {
   "cell_type": "code",
   "execution_count": 77,
   "id": "d1ce3b6d",
   "metadata": {},
   "outputs": [
    {
     "data": {
      "text/plain": [
       "[]"
      ]
     },
     "execution_count": 77,
     "metadata": {},
     "output_type": "execute_result"
    }
   ],
   "source": [
    "l3"
   ]
  },
  {
   "cell_type": "code",
   "execution_count": 93,
   "id": "096bcddc",
   "metadata": {},
   "outputs": [],
   "source": [
    "# delete"
   ]
  },
  {
   "cell_type": "code",
   "execution_count": 78,
   "id": "c4bb4ec4",
   "metadata": {},
   "outputs": [],
   "source": [
    "del l3"
   ]
  },
  {
   "cell_type": "code",
   "execution_count": 79,
   "id": "f8a54ea4",
   "metadata": {},
   "outputs": [
    {
     "ename": "NameError",
     "evalue": "name 'l3' is not defined",
     "output_type": "error",
     "traceback": [
      "\u001b[0;31m---------------------------------------------------------------------------\u001b[0m",
      "\u001b[0;31mNameError\u001b[0m                                 Traceback (most recent call last)",
      "\u001b[0;32m<ipython-input-79-b8fff4990345>\u001b[0m in \u001b[0;36m<module>\u001b[0;34m\u001b[0m\n\u001b[0;32m----> 1\u001b[0;31m \u001b[0ml3\u001b[0m\u001b[0;34m\u001b[0m\u001b[0;34m\u001b[0m\u001b[0m\n\u001b[0m",
      "\u001b[0;31mNameError\u001b[0m: name 'l3' is not defined"
     ]
    }
   ],
   "source": [
    "l3"
   ]
  },
  {
   "cell_type": "code",
   "execution_count": 80,
   "id": "1ed4f5a3",
   "metadata": {},
   "outputs": [],
   "source": [
    "del l1[::2]"
   ]
  },
  {
   "cell_type": "code",
   "execution_count": 81,
   "id": "d24fd6b0",
   "metadata": {},
   "outputs": [
    {
     "data": {
      "text/plain": [
       "[200, 400, 600, 500, 400, 6]"
      ]
     },
     "execution_count": 81,
     "metadata": {},
     "output_type": "execute_result"
    }
   ],
   "source": [
    "l1"
   ]
  },
  {
   "cell_type": "code",
   "execution_count": 82,
   "id": "4c3d0bc2",
   "metadata": {},
   "outputs": [],
   "source": [
    "l1.append('g')"
   ]
  },
  {
   "cell_type": "code",
   "execution_count": 83,
   "id": "6613c921",
   "metadata": {},
   "outputs": [
    {
     "data": {
      "text/plain": [
       "[200, 400, 600, 500, 400, 6, 'g']"
      ]
     },
     "execution_count": 83,
     "metadata": {},
     "output_type": "execute_result"
    }
   ],
   "source": [
    "l1"
   ]
  },
  {
   "cell_type": "code",
   "execution_count": 84,
   "id": "d0cd67d6",
   "metadata": {},
   "outputs": [],
   "source": [
    "l1.remove('g')"
   ]
  },
  {
   "cell_type": "code",
   "execution_count": 85,
   "id": "25d1befe",
   "metadata": {},
   "outputs": [
    {
     "data": {
      "text/plain": [
       "[200, 400, 600, 500, 400, 6]"
      ]
     },
     "execution_count": 85,
     "metadata": {},
     "output_type": "execute_result"
    }
   ],
   "source": [
    "l1"
   ]
  },
  {
   "cell_type": "code",
   "execution_count": 86,
   "id": "adf220c6",
   "metadata": {},
   "outputs": [
    {
     "data": {
      "text/plain": [
       "6"
      ]
     },
     "execution_count": 86,
     "metadata": {},
     "output_type": "execute_result"
    }
   ],
   "source": [
    "l1.pop()"
   ]
  },
  {
   "cell_type": "code",
   "execution_count": 87,
   "id": "4631fbb3",
   "metadata": {},
   "outputs": [
    {
     "data": {
      "text/plain": [
       "[200, 400, 600, 500, 400]"
      ]
     },
     "execution_count": 87,
     "metadata": {},
     "output_type": "execute_result"
    }
   ],
   "source": [
    "l1"
   ]
  },
  {
   "cell_type": "code",
   "execution_count": 89,
   "id": "04efd715",
   "metadata": {},
   "outputs": [
    {
     "data": {
      "text/plain": [
       "400"
      ]
     },
     "execution_count": 89,
     "metadata": {},
     "output_type": "execute_result"
    }
   ],
   "source": [
    "l1.pop()"
   ]
  },
  {
   "cell_type": "code",
   "execution_count": 90,
   "id": "7d1300d9",
   "metadata": {},
   "outputs": [
    {
     "data": {
      "text/plain": [
       "[200, 400, 600, 500]"
      ]
     },
     "execution_count": 90,
     "metadata": {},
     "output_type": "execute_result"
    }
   ],
   "source": [
    "l1"
   ]
  },
  {
   "cell_type": "code",
   "execution_count": 91,
   "id": "159dd555",
   "metadata": {},
   "outputs": [
    {
     "data": {
      "text/plain": [
       "400"
      ]
     },
     "execution_count": 91,
     "metadata": {},
     "output_type": "execute_result"
    }
   ],
   "source": [
    "l1.pop(1)"
   ]
  },
  {
   "cell_type": "code",
   "execution_count": 92,
   "id": "f907a776",
   "metadata": {},
   "outputs": [
    {
     "data": {
      "text/plain": [
       "[200, 600, 500]"
      ]
     },
     "execution_count": 92,
     "metadata": {},
     "output_type": "execute_result"
    }
   ],
   "source": [
    "l1"
   ]
  },
  {
   "cell_type": "code",
   "execution_count": 94,
   "id": "db80efa6",
   "metadata": {},
   "outputs": [],
   "source": [
    "l1.clear()"
   ]
  },
  {
   "cell_type": "code",
   "execution_count": 95,
   "id": "ffde8dd1",
   "metadata": {},
   "outputs": [
    {
     "data": {
      "text/plain": [
       "[]"
      ]
     },
     "execution_count": 95,
     "metadata": {},
     "output_type": "execute_result"
    }
   ],
   "source": [
    "l1"
   ]
  },
  {
   "cell_type": "markdown",
   "id": "c2c5940b",
   "metadata": {},
   "source": [
    "# Operations "
   ]
  },
  {
   "cell_type": "code",
   "execution_count": 96,
   "id": "7462d7aa",
   "metadata": {},
   "outputs": [],
   "source": [
    "l1 = [1,2,3,4,5]\n",
    "l2 = [6,7,8,9,10]"
   ]
  },
  {
   "cell_type": "code",
   "execution_count": 97,
   "id": "2bf1686c",
   "metadata": {},
   "outputs": [
    {
     "data": {
      "text/plain": [
       "[1, 2, 3, 4, 5, 6, 7, 8, 9, 10]"
      ]
     },
     "execution_count": 97,
     "metadata": {},
     "output_type": "execute_result"
    }
   ],
   "source": [
    "l1+l2"
   ]
  },
  {
   "cell_type": "code",
   "execution_count": 98,
   "id": "31db36dd",
   "metadata": {},
   "outputs": [
    {
     "data": {
      "text/plain": [
       "[1, 2, 3, 4, 5, 1, 2, 3, 4, 5, 1, 2, 3, 4, 5]"
      ]
     },
     "execution_count": 98,
     "metadata": {},
     "output_type": "execute_result"
    }
   ],
   "source": [
    "l1*3"
   ]
  },
  {
   "cell_type": "code",
   "execution_count": 99,
   "id": "b13d381e",
   "metadata": {},
   "outputs": [
    {
     "name": "stdout",
     "output_type": "stream",
     "text": [
      "1\n",
      "2\n",
      "3\n",
      "4\n",
      "5\n"
     ]
    }
   ],
   "source": [
    "for i in l1:\n",
    "    print (i)"
   ]
  },
  {
   "cell_type": "code",
   "execution_count": 100,
   "id": "6ea2aeb0",
   "metadata": {},
   "outputs": [
    {
     "data": {
      "text/plain": [
       "[[[1, 2], [3, 4]], [[5, 6], [7, 8]]]"
      ]
     },
     "execution_count": 100,
     "metadata": {},
     "output_type": "execute_result"
    }
   ],
   "source": [
    "l5"
   ]
  },
  {
   "cell_type": "code",
   "execution_count": 101,
   "id": "0a348f69",
   "metadata": {},
   "outputs": [
    {
     "name": "stdout",
     "output_type": "stream",
     "text": [
      "[[1, 2], [3, 4]]\n",
      "[[5, 6], [7, 8]]\n"
     ]
    }
   ],
   "source": [
    "for i in l5:\n",
    "    print (i)"
   ]
  },
  {
   "cell_type": "code",
   "execution_count": 104,
   "id": "6836aeb6",
   "metadata": {},
   "outputs": [],
   "source": [
    "#Membership"
   ]
  },
  {
   "cell_type": "code",
   "execution_count": 102,
   "id": "6648e7b0",
   "metadata": {},
   "outputs": [
    {
     "data": {
      "text/plain": [
       "True"
      ]
     },
     "execution_count": 102,
     "metadata": {},
     "output_type": "execute_result"
    }
   ],
   "source": [
    "4 in l1"
   ]
  },
  {
   "cell_type": "code",
   "execution_count": 103,
   "id": "c8051d78",
   "metadata": {},
   "outputs": [
    {
     "data": {
      "text/plain": [
       "False"
      ]
     },
     "execution_count": 103,
     "metadata": {},
     "output_type": "execute_result"
    }
   ],
   "source": [
    "15 in l1"
   ]
  },
  {
   "cell_type": "code",
   "execution_count": 105,
   "id": "219e82d7",
   "metadata": {},
   "outputs": [
    {
     "data": {
      "text/plain": [
       "[1, 2, 3, 4, [5, 6]]"
      ]
     },
     "execution_count": 105,
     "metadata": {},
     "output_type": "execute_result"
    }
   ],
   "source": [
    "l4"
   ]
  },
  {
   "cell_type": "markdown",
   "id": "51306a35",
   "metadata": {},
   "source": [
    "# Tuples"
   ]
  },
  {
   "cell_type": "code",
   "execution_count": 106,
   "id": "6c423c0e",
   "metadata": {},
   "outputs": [],
   "source": [
    "#create\n",
    "#access\n",
    "#edit\n",
    "#add\n",
    "#delete\n",
    "#operations\n",
    "#functions"
   ]
  },
  {
   "cell_type": "code",
   "execution_count": 107,
   "id": "e0c2f25e",
   "metadata": {},
   "outputs": [],
   "source": [
    "t1 = (1,2,3,4,5)"
   ]
  },
  {
   "cell_type": "code",
   "execution_count": 108,
   "id": "4aa5778e",
   "metadata": {},
   "outputs": [],
   "source": [
    "t2 = ('hello',3,4.5,True)"
   ]
  },
  {
   "cell_type": "code",
   "execution_count": 109,
   "id": "b8550e1f",
   "metadata": {},
   "outputs": [],
   "source": [
    "t3 = ()"
   ]
  },
  {
   "cell_type": "code",
   "execution_count": 110,
   "id": "67f98551",
   "metadata": {},
   "outputs": [],
   "source": [
    "t4 = (1,2,3,(4,5))"
   ]
  },
  {
   "cell_type": "code",
   "execution_count": 116,
   "id": "83e37538",
   "metadata": {},
   "outputs": [],
   "source": [
    "#Single item tuples cannot be created"
   ]
  },
  {
   "cell_type": "code",
   "execution_count": 111,
   "id": "e9c9da01",
   "metadata": {},
   "outputs": [],
   "source": [
    "t5 = (4)"
   ]
  },
  {
   "cell_type": "code",
   "execution_count": 112,
   "id": "e0c6725f",
   "metadata": {},
   "outputs": [
    {
     "data": {
      "text/plain": [
       "4"
      ]
     },
     "execution_count": 112,
     "metadata": {},
     "output_type": "execute_result"
    }
   ],
   "source": [
    "t5"
   ]
  },
  {
   "cell_type": "code",
   "execution_count": 113,
   "id": "1c2c0a78",
   "metadata": {},
   "outputs": [
    {
     "data": {
      "text/plain": [
       "int"
      ]
     },
     "execution_count": 113,
     "metadata": {},
     "output_type": "execute_result"
    }
   ],
   "source": [
    "type(t5)"
   ]
  },
  {
   "cell_type": "code",
   "execution_count": 114,
   "id": "46fdf840",
   "metadata": {},
   "outputs": [],
   "source": [
    "t5 = (4,)"
   ]
  },
  {
   "cell_type": "code",
   "execution_count": 115,
   "id": "22bf0fa8",
   "metadata": {},
   "outputs": [
    {
     "data": {
      "text/plain": [
       "tuple"
      ]
     },
     "execution_count": 115,
     "metadata": {},
     "output_type": "execute_result"
    }
   ],
   "source": [
    "type (t5)"
   ]
  },
  {
   "cell_type": "code",
   "execution_count": 117,
   "id": "94062944",
   "metadata": {},
   "outputs": [],
   "source": [
    "t6 = tuple('goa')"
   ]
  },
  {
   "cell_type": "code",
   "execution_count": 118,
   "id": "87280159",
   "metadata": {},
   "outputs": [
    {
     "data": {
      "text/plain": [
       "('g', 'o', 'a')"
      ]
     },
     "execution_count": 118,
     "metadata": {},
     "output_type": "execute_result"
    }
   ],
   "source": [
    "t6"
   ]
  },
  {
   "cell_type": "markdown",
   "id": "0adeaa86",
   "metadata": {},
   "source": [
    "### Tuples are immutable just like strings"
   ]
  },
  {
   "cell_type": "code",
   "execution_count": 120,
   "id": "3de08daf",
   "metadata": {},
   "outputs": [],
   "source": [
    "del(t3)"
   ]
  },
  {
   "cell_type": "code",
   "execution_count": 121,
   "id": "cf236af1",
   "metadata": {},
   "outputs": [
    {
     "ename": "NameError",
     "evalue": "name 't3' is not defined",
     "output_type": "error",
     "traceback": [
      "\u001b[0;31m---------------------------------------------------------------------------\u001b[0m",
      "\u001b[0;31mNameError\u001b[0m                                 Traceback (most recent call last)",
      "\u001b[0;32m<ipython-input-121-cb71df86e240>\u001b[0m in \u001b[0;36m<module>\u001b[0;34m\u001b[0m\n\u001b[0;32m----> 1\u001b[0;31m \u001b[0mt3\u001b[0m\u001b[0;34m\u001b[0m\u001b[0;34m\u001b[0m\u001b[0m\n\u001b[0m",
      "\u001b[0;31mNameError\u001b[0m: name 't3' is not defined"
     ]
    }
   ],
   "source": [
    "t3"
   ]
  },
  {
   "cell_type": "code",
   "execution_count": 122,
   "id": "a3a8367d",
   "metadata": {},
   "outputs": [
    {
     "name": "stdout",
     "output_type": "stream",
     "text": [
      "1\n",
      "2\n",
      "3\n",
      "4\n",
      "5\n"
     ]
    }
   ],
   "source": [
    "for i in t1:\n",
    "    print (i)"
   ]
  },
  {
   "cell_type": "code",
   "execution_count": 123,
   "id": "75b385d8",
   "metadata": {},
   "outputs": [
    {
     "data": {
      "text/plain": [
       "True"
      ]
     },
     "execution_count": 123,
     "metadata": {},
     "output_type": "execute_result"
    }
   ],
   "source": [
    "1 in t1"
   ]
  },
  {
   "cell_type": "code",
   "execution_count": 126,
   "id": "ad797bb8",
   "metadata": {},
   "outputs": [
    {
     "data": {
      "text/plain": [
       "5"
      ]
     },
     "execution_count": 126,
     "metadata": {},
     "output_type": "execute_result"
    }
   ],
   "source": [
    "len(t1)"
   ]
  },
  {
   "cell_type": "code",
   "execution_count": 127,
   "id": "e363f98d",
   "metadata": {},
   "outputs": [
    {
     "data": {
      "text/plain": [
       "1"
      ]
     },
     "execution_count": 127,
     "metadata": {},
     "output_type": "execute_result"
    }
   ],
   "source": [
    "min(t1)"
   ]
  },
  {
   "cell_type": "code",
   "execution_count": 130,
   "id": "8e651ae1",
   "metadata": {},
   "outputs": [
    {
     "data": {
      "text/plain": [
       "5"
      ]
     },
     "execution_count": 130,
     "metadata": {},
     "output_type": "execute_result"
    }
   ],
   "source": [
    "max(t1)"
   ]
  },
  {
   "cell_type": "markdown",
   "id": "f914df12",
   "metadata": {},
   "source": [
    "# SETS"
   ]
  },
  {
   "cell_type": "code",
   "execution_count": 136,
   "id": "7c923696",
   "metadata": {},
   "outputs": [],
   "source": [
    "# RULES IN SETS\n",
    "# Sets are mutable\n",
    "# Sets cant have mutabe data types\n",
    "# Sets cant have duplicate values\n",
    "# There is no concept of indexing or slicing in sets"
   ]
  },
  {
   "cell_type": "code",
   "execution_count": 137,
   "id": "1d550814",
   "metadata": {},
   "outputs": [],
   "source": [
    "#create\n",
    "#access\n",
    "#edit\n",
    "#add\n",
    "#delete\n",
    "#operations\n",
    "#functions"
   ]
  },
  {
   "cell_type": "code",
   "execution_count": 138,
   "id": "5f637967",
   "metadata": {},
   "outputs": [],
   "source": [
    "#Create"
   ]
  },
  {
   "cell_type": "code",
   "execution_count": 139,
   "id": "2e51e21f",
   "metadata": {},
   "outputs": [],
   "source": [
    "s1 = {1,2,3,4}"
   ]
  },
  {
   "cell_type": "code",
   "execution_count": 140,
   "id": "00a52d61",
   "metadata": {},
   "outputs": [
    {
     "data": {
      "text/plain": [
       "{1, 2, 3, 4}"
      ]
     },
     "execution_count": 140,
     "metadata": {},
     "output_type": "execute_result"
    }
   ],
   "source": [
    "s1"
   ]
  },
  {
   "cell_type": "code",
   "execution_count": 143,
   "id": "06d3de94",
   "metadata": {},
   "outputs": [],
   "source": [
    "#The below given wierd phenomenon is due to the algorithm hashing"
   ]
  },
  {
   "cell_type": "code",
   "execution_count": 144,
   "id": "60bd6e91",
   "metadata": {},
   "outputs": [],
   "source": [
    "s2 = {'hello',3,True}"
   ]
  },
  {
   "cell_type": "code",
   "execution_count": 145,
   "id": "f8dcd257",
   "metadata": {},
   "outputs": [
    {
     "data": {
      "text/plain": [
       "{3, True, 'hello'}"
      ]
     },
     "execution_count": 145,
     "metadata": {},
     "output_type": "execute_result"
    }
   ],
   "source": [
    "s2"
   ]
  },
  {
   "cell_type": "code",
   "execution_count": 146,
   "id": "45a05d5a",
   "metadata": {},
   "outputs": [],
   "source": [
    "s3 = {}"
   ]
  },
  {
   "cell_type": "code",
   "execution_count": 147,
   "id": "492b8dc0",
   "metadata": {},
   "outputs": [
    {
     "data": {
      "text/plain": [
       "dict"
      ]
     },
     "execution_count": 147,
     "metadata": {},
     "output_type": "execute_result"
    }
   ],
   "source": [
    "type(s3)"
   ]
  },
  {
   "cell_type": "code",
   "execution_count": 149,
   "id": "4b203271",
   "metadata": {},
   "outputs": [],
   "source": [
    "s3 = set()"
   ]
  },
  {
   "cell_type": "code",
   "execution_count": 150,
   "id": "aaaaf0b5",
   "metadata": {},
   "outputs": [
    {
     "data": {
      "text/plain": [
       "set"
      ]
     },
     "execution_count": 150,
     "metadata": {},
     "output_type": "execute_result"
    }
   ],
   "source": [
    "type(s3)"
   ]
  },
  {
   "cell_type": "code",
   "execution_count": 151,
   "id": "ac27f9ee",
   "metadata": {},
   "outputs": [],
   "source": [
    "s4 = {1,1,1,2,2,2,3,3,3}"
   ]
  },
  {
   "cell_type": "code",
   "execution_count": 152,
   "id": "56b05058",
   "metadata": {},
   "outputs": [
    {
     "data": {
      "text/plain": [
       "{1, 2, 3}"
      ]
     },
     "execution_count": 152,
     "metadata": {},
     "output_type": "execute_result"
    }
   ],
   "source": [
    "s4"
   ]
  },
  {
   "cell_type": "code",
   "execution_count": 153,
   "id": "207d28d4",
   "metadata": {},
   "outputs": [
    {
     "ename": "TypeError",
     "evalue": "unhashable type: 'list'",
     "output_type": "error",
     "traceback": [
      "\u001b[0;31m---------------------------------------------------------------------------\u001b[0m",
      "\u001b[0;31mTypeError\u001b[0m                                 Traceback (most recent call last)",
      "\u001b[0;32m<ipython-input-153-1510cf35e112>\u001b[0m in \u001b[0;36m<module>\u001b[0;34m\u001b[0m\n\u001b[0;32m----> 1\u001b[0;31m \u001b[0ms5\u001b[0m \u001b[0;34m=\u001b[0m \u001b[0;34m{\u001b[0m\u001b[0;36m1\u001b[0m\u001b[0;34m,\u001b[0m\u001b[0;34m[\u001b[0m\u001b[0;36m2\u001b[0m\u001b[0;34m,\u001b[0m\u001b[0;36m3\u001b[0m\u001b[0;34m]\u001b[0m\u001b[0;34m}\u001b[0m\u001b[0;34m\u001b[0m\u001b[0;34m\u001b[0m\u001b[0m\n\u001b[0m",
      "\u001b[0;31mTypeError\u001b[0m: unhashable type: 'list'"
     ]
    }
   ],
   "source": [
    "s5 = {1,[2,3]}"
   ]
  },
  {
   "cell_type": "code",
   "execution_count": 154,
   "id": "de2c9f0d",
   "metadata": {},
   "outputs": [],
   "source": [
    "s5 = {1,(2,3)}"
   ]
  },
  {
   "cell_type": "code",
   "execution_count": 155,
   "id": "348df5f7",
   "metadata": {},
   "outputs": [
    {
     "data": {
      "text/plain": [
       "{(2, 3), 1}"
      ]
     },
     "execution_count": 155,
     "metadata": {},
     "output_type": "execute_result"
    }
   ],
   "source": [
    "s5"
   ]
  },
  {
   "cell_type": "code",
   "execution_count": 156,
   "id": "c975689b",
   "metadata": {},
   "outputs": [
    {
     "ename": "SyntaxError",
     "evalue": "invalid syntax (<ipython-input-156-1fff58db5c3b>, line 1)",
     "output_type": "error",
     "traceback": [
      "\u001b[0;36m  File \u001b[0;32m\"<ipython-input-156-1fff58db5c3b>\"\u001b[0;36m, line \u001b[0;32m1\u001b[0m\n\u001b[0;31m    s1{-1}\u001b[0m\n\u001b[0m      ^\u001b[0m\n\u001b[0;31mSyntaxError\u001b[0m\u001b[0;31m:\u001b[0m invalid syntax\n"
     ]
    }
   ],
   "source": [
    "s1{-1}"
   ]
  },
  {
   "cell_type": "code",
   "execution_count": 157,
   "id": "ac51ae52",
   "metadata": {},
   "outputs": [
    {
     "ename": "TypeError",
     "evalue": "'set' object is not subscriptable",
     "output_type": "error",
     "traceback": [
      "\u001b[0;31m---------------------------------------------------------------------------\u001b[0m",
      "\u001b[0;31mTypeError\u001b[0m                                 Traceback (most recent call last)",
      "\u001b[0;32m<ipython-input-157-9e3a7e09e72e>\u001b[0m in \u001b[0;36m<module>\u001b[0;34m\u001b[0m\n\u001b[0;32m----> 1\u001b[0;31m \u001b[0ms1\u001b[0m \u001b[0;34m[\u001b[0m\u001b[0;36m0\u001b[0m\u001b[0;34m:\u001b[0m\u001b[0;36m4\u001b[0m\u001b[0;34m:\u001b[0m\u001b[0;36m2\u001b[0m\u001b[0;34m]\u001b[0m\u001b[0;34m\u001b[0m\u001b[0;34m\u001b[0m\u001b[0m\n\u001b[0m",
      "\u001b[0;31mTypeError\u001b[0m: 'set' object is not subscriptable"
     ]
    }
   ],
   "source": [
    "s1 [0:4:2]"
   ]
  },
  {
   "cell_type": "code",
   "execution_count": 161,
   "id": "6377f2b2",
   "metadata": {},
   "outputs": [],
   "source": [
    "#Afew types of editing is not allowed in python since there is no concept of editing or slicing\n"
   ]
  },
  {
   "cell_type": "code",
   "execution_count": 158,
   "id": "45230531",
   "metadata": {},
   "outputs": [
    {
     "data": {
      "text/plain": [
       "{1, 2, 3, 4}"
      ]
     },
     "execution_count": 158,
     "metadata": {},
     "output_type": "execute_result"
    }
   ],
   "source": [
    "s1"
   ]
  },
  {
   "cell_type": "code",
   "execution_count": 159,
   "id": "f50c2a6c",
   "metadata": {},
   "outputs": [],
   "source": [
    "s1.add(5)"
   ]
  },
  {
   "cell_type": "code",
   "execution_count": 160,
   "id": "09bef5f2",
   "metadata": {},
   "outputs": [
    {
     "data": {
      "text/plain": [
       "{1, 2, 3, 4, 5}"
      ]
     },
     "execution_count": 160,
     "metadata": {},
     "output_type": "execute_result"
    }
   ],
   "source": [
    "s1"
   ]
  },
  {
   "cell_type": "code",
   "execution_count": 163,
   "id": "ec601008",
   "metadata": {},
   "outputs": [],
   "source": [
    "del(s3)"
   ]
  },
  {
   "cell_type": "code",
   "execution_count": 164,
   "id": "ab7f7634",
   "metadata": {},
   "outputs": [
    {
     "data": {
      "text/plain": [
       "1"
      ]
     },
     "execution_count": 164,
     "metadata": {},
     "output_type": "execute_result"
    }
   ],
   "source": [
    "s1.pop()"
   ]
  },
  {
   "cell_type": "code",
   "execution_count": 165,
   "id": "205eafcc",
   "metadata": {},
   "outputs": [
    {
     "data": {
      "text/plain": [
       "{2, 3, 4, 5}"
      ]
     },
     "execution_count": 165,
     "metadata": {},
     "output_type": "execute_result"
    }
   ],
   "source": [
    "s1"
   ]
  },
  {
   "cell_type": "code",
   "execution_count": 167,
   "id": "c7b9127f",
   "metadata": {},
   "outputs": [],
   "source": [
    "s1.remove(3)"
   ]
  },
  {
   "cell_type": "code",
   "execution_count": 168,
   "id": "dea3e441",
   "metadata": {},
   "outputs": [
    {
     "data": {
      "text/plain": [
       "{2, 4, 5}"
      ]
     },
     "execution_count": 168,
     "metadata": {},
     "output_type": "execute_result"
    }
   ],
   "source": [
    "s1"
   ]
  },
  {
   "cell_type": "code",
   "execution_count": 171,
   "id": "0924cf6e",
   "metadata": {},
   "outputs": [],
   "source": [
    "s1 = {True, 1}"
   ]
  },
  {
   "cell_type": "code",
   "execution_count": 172,
   "id": "f3b1b109",
   "metadata": {},
   "outputs": [
    {
     "data": {
      "text/plain": [
       "{True}"
      ]
     },
     "execution_count": 172,
     "metadata": {},
     "output_type": "execute_result"
    }
   ],
   "source": [
    "s1"
   ]
  },
  {
   "cell_type": "markdown",
   "id": "49c32fff",
   "metadata": {},
   "source": [
    "### Find out all the mutable and non mutable data types in different programming languages.\n"
   ]
  },
  {
   "cell_type": "markdown",
   "id": "5e6e4bf9",
   "metadata": {},
   "source": [
    "# Dictionaries"
   ]
  },
  {
   "cell_type": "code",
   "execution_count": 174,
   "id": "a1a953e9",
   "metadata": {},
   "outputs": [],
   "source": [
    "# Dictionary is mutable\n",
    "# no indexing or slicing in dict\n",
    "# there is key and value and pairs.\n",
    "# keys should not be mutable. whereas values can be mutable\n",
    "# keys cannot be repeated"
   ]
  },
  {
   "cell_type": "code",
   "execution_count": 175,
   "id": "4a20f53a",
   "metadata": {},
   "outputs": [],
   "source": [
    "#create\n",
    "#access\n",
    "#edit\n",
    "#add\n",
    "#delete\n",
    "#operations\n",
    "#functions"
   ]
  },
  {
   "cell_type": "code",
   "execution_count": 176,
   "id": "434212a0",
   "metadata": {},
   "outputs": [],
   "source": [
    "d1 = {'name':'shrayan','age':21, 'gender':'male'}"
   ]
  },
  {
   "cell_type": "code",
   "execution_count": 177,
   "id": "e14d01b4",
   "metadata": {},
   "outputs": [
    {
     "data": {
      "text/plain": [
       "{'name': 'shrayan', 'age': 21, 'gender': 'male'}"
      ]
     },
     "execution_count": 177,
     "metadata": {},
     "output_type": "execute_result"
    }
   ],
   "source": [
    "d1"
   ]
  },
  {
   "cell_type": "code",
   "execution_count": 178,
   "id": "64718cd2",
   "metadata": {},
   "outputs": [],
   "source": [
    "d2 = {}"
   ]
  },
  {
   "cell_type": "code",
   "execution_count": 179,
   "id": "cab0de0d",
   "metadata": {},
   "outputs": [
    {
     "data": {
      "text/plain": [
       "{}"
      ]
     },
     "execution_count": 179,
     "metadata": {},
     "output_type": "execute_result"
    }
   ],
   "source": [
    "d2"
   ]
  },
  {
   "cell_type": "code",
   "execution_count": 202,
   "id": "84a866a1",
   "metadata": {},
   "outputs": [],
   "source": [
    "d3 = {\n",
    "    'name':'Shrayan',\n",
    "    'age':21,\n",
    "    'sem':5,\n",
    "    'marks':{\n",
    "        'os':50,\n",
    "        'dsa':55,\n",
    "        'eng':60\n",
    "    }\n",
    "}"
   ]
  },
  {
   "cell_type": "code",
   "execution_count": 203,
   "id": "021cc738",
   "metadata": {},
   "outputs": [
    {
     "data": {
      "text/plain": [
       "{'name': 'Shrayan',\n",
       " 'age': 21,\n",
       " 'sem': 5,\n",
       " 'marks': {'os': 50, 'dsa': 55, 'eng': 60}}"
      ]
     },
     "execution_count": 203,
     "metadata": {},
     "output_type": "execute_result"
    }
   ],
   "source": [
    "d3"
   ]
  },
  {
   "cell_type": "code",
   "execution_count": 204,
   "id": "71b852dd",
   "metadata": {},
   "outputs": [],
   "source": [
    "d4 = {'name':'Rahul','name':'Shrayan'}"
   ]
  },
  {
   "cell_type": "code",
   "execution_count": 205,
   "id": "9bb29dda",
   "metadata": {},
   "outputs": [
    {
     "data": {
      "text/plain": [
       "{'name': 'Shrayan'}"
      ]
     },
     "execution_count": 205,
     "metadata": {},
     "output_type": "execute_result"
    }
   ],
   "source": [
    "d4"
   ]
  },
  {
   "cell_type": "code",
   "execution_count": 206,
   "id": "cdd9a3e6",
   "metadata": {},
   "outputs": [
    {
     "data": {
      "text/plain": [
       "'Shrayan'"
      ]
     },
     "execution_count": 206,
     "metadata": {},
     "output_type": "execute_result"
    }
   ],
   "source": [
    "d3['name']"
   ]
  },
  {
   "cell_type": "code",
   "execution_count": 207,
   "id": "7c61b85a",
   "metadata": {},
   "outputs": [
    {
     "data": {
      "text/plain": [
       "60"
      ]
     },
     "execution_count": 207,
     "metadata": {},
     "output_type": "execute_result"
    }
   ],
   "source": [
    "d3['marks']['eng']"
   ]
  },
  {
   "cell_type": "code",
   "execution_count": 208,
   "id": "8f6e26ff",
   "metadata": {},
   "outputs": [
    {
     "ename": "KeyError",
     "evalue": "'gfgf'",
     "output_type": "error",
     "traceback": [
      "\u001b[0;31m---------------------------------------------------------------------------\u001b[0m",
      "\u001b[0;31mKeyError\u001b[0m                                  Traceback (most recent call last)",
      "\u001b[0;32m<ipython-input-208-87dc1a711c7b>\u001b[0m in \u001b[0;36m<module>\u001b[0;34m\u001b[0m\n\u001b[0;32m----> 1\u001b[0;31m \u001b[0md3\u001b[0m\u001b[0;34m[\u001b[0m\u001b[0;34m'gfgf'\u001b[0m\u001b[0;34m]\u001b[0m\u001b[0;34m\u001b[0m\u001b[0;34m\u001b[0m\u001b[0m\n\u001b[0m",
      "\u001b[0;31mKeyError\u001b[0m: 'gfgf'"
     ]
    }
   ],
   "source": [
    "d3['gfgf']"
   ]
  },
  {
   "cell_type": "code",
   "execution_count": 209,
   "id": "96e4b708",
   "metadata": {},
   "outputs": [],
   "source": [
    "d3['college'] = 'HIT'"
   ]
  },
  {
   "cell_type": "code",
   "execution_count": 210,
   "id": "4da97487",
   "metadata": {},
   "outputs": [
    {
     "data": {
      "text/plain": [
       "{'name': 'Shrayan',\n",
       " 'age': 21,\n",
       " 'sem': 5,\n",
       " 'marks': {'os': 50, 'dsa': 55, 'eng': 60},\n",
       " 'college': 'HIT'}"
      ]
     },
     "execution_count": 210,
     "metadata": {},
     "output_type": "execute_result"
    }
   ],
   "source": [
    "d3"
   ]
  },
  {
   "cell_type": "code",
   "execution_count": 211,
   "id": "b988f3db",
   "metadata": {},
   "outputs": [],
   "source": [
    "d3['marks']['maths'] = 60"
   ]
  },
  {
   "cell_type": "code",
   "execution_count": 212,
   "id": "46ac1006",
   "metadata": {},
   "outputs": [
    {
     "data": {
      "text/plain": [
       "{'name': 'Shrayan',\n",
       " 'age': 21,\n",
       " 'sem': 5,\n",
       " 'marks': {'os': 50, 'dsa': 55, 'eng': 60, 'maths': 60},\n",
       " 'college': 'HIT'}"
      ]
     },
     "execution_count": 212,
     "metadata": {},
     "output_type": "execute_result"
    }
   ],
   "source": [
    "d3"
   ]
  },
  {
   "cell_type": "code",
   "execution_count": 213,
   "id": "f52088aa",
   "metadata": {},
   "outputs": [],
   "source": [
    "d3['name'] = 'shrayan2'"
   ]
  },
  {
   "cell_type": "code",
   "execution_count": 214,
   "id": "8f539138",
   "metadata": {},
   "outputs": [
    {
     "data": {
      "text/plain": [
       "{'name': 'shrayan2',\n",
       " 'age': 21,\n",
       " 'sem': 5,\n",
       " 'marks': {'os': 50, 'dsa': 55, 'eng': 60, 'maths': 60},\n",
       " 'college': 'HIT'}"
      ]
     },
     "execution_count": 214,
     "metadata": {},
     "output_type": "execute_result"
    }
   ],
   "source": [
    "d3"
   ]
  },
  {
   "cell_type": "code",
   "execution_count": 217,
   "id": "ecd7ad31",
   "metadata": {},
   "outputs": [],
   "source": [
    "d2 = {}"
   ]
  },
  {
   "cell_type": "code",
   "execution_count": 218,
   "id": "a6747fde",
   "metadata": {},
   "outputs": [],
   "source": [
    "del(d2)"
   ]
  },
  {
   "cell_type": "code",
   "execution_count": 219,
   "id": "0a5650c5",
   "metadata": {},
   "outputs": [
    {
     "ename": "NameError",
     "evalue": "name 'd2' is not defined",
     "output_type": "error",
     "traceback": [
      "\u001b[0;31m---------------------------------------------------------------------------\u001b[0m",
      "\u001b[0;31mNameError\u001b[0m                                 Traceback (most recent call last)",
      "\u001b[0;32m<ipython-input-219-fe1ba9d06821>\u001b[0m in \u001b[0;36m<module>\u001b[0;34m\u001b[0m\n\u001b[0;32m----> 1\u001b[0;31m \u001b[0md2\u001b[0m\u001b[0;34m\u001b[0m\u001b[0;34m\u001b[0m\u001b[0m\n\u001b[0m",
      "\u001b[0;31mNameError\u001b[0m: name 'd2' is not defined"
     ]
    }
   ],
   "source": [
    "d2"
   ]
  },
  {
   "cell_type": "code",
   "execution_count": 220,
   "id": "93d123bf",
   "metadata": {},
   "outputs": [
    {
     "data": {
      "text/plain": [
       "{'name': 'shrayan2',\n",
       " 'age': 21,\n",
       " 'sem': 5,\n",
       " 'marks': {'os': 50, 'dsa': 55, 'eng': 60, 'maths': 60},\n",
       " 'college': 'HIT'}"
      ]
     },
     "execution_count": 220,
     "metadata": {},
     "output_type": "execute_result"
    }
   ],
   "source": [
    "d3"
   ]
  },
  {
   "cell_type": "code",
   "execution_count": 221,
   "id": "d4fcabd3",
   "metadata": {},
   "outputs": [],
   "source": [
    "del d3['sem']"
   ]
  },
  {
   "cell_type": "code",
   "execution_count": 222,
   "id": "b14316e7",
   "metadata": {},
   "outputs": [
    {
     "data": {
      "text/plain": [
       "{'name': 'shrayan2',\n",
       " 'age': 21,\n",
       " 'marks': {'os': 50, 'dsa': 55, 'eng': 60, 'maths': 60},\n",
       " 'college': 'HIT'}"
      ]
     },
     "execution_count": 222,
     "metadata": {},
     "output_type": "execute_result"
    }
   ],
   "source": [
    "d3"
   ]
  },
  {
   "cell_type": "code",
   "execution_count": 223,
   "id": "3e54cdef",
   "metadata": {},
   "outputs": [
    {
     "data": {
      "text/plain": [
       "{'name': 'shrayan', 'age': 21, 'gender': 'male'}"
      ]
     },
     "execution_count": 223,
     "metadata": {},
     "output_type": "execute_result"
    }
   ],
   "source": [
    "d1"
   ]
  },
  {
   "cell_type": "code",
   "execution_count": 224,
   "id": "efc6206d",
   "metadata": {},
   "outputs": [
    {
     "name": "stdout",
     "output_type": "stream",
     "text": [
      "name\n",
      "age\n",
      "gender\n"
     ]
    }
   ],
   "source": [
    "for i in d1:\n",
    "    print(i)"
   ]
  },
  {
   "cell_type": "code",
   "execution_count": 225,
   "id": "8385f3b4",
   "metadata": {},
   "outputs": [
    {
     "name": "stdout",
     "output_type": "stream",
     "text": [
      "name shrayan\n",
      "age 21\n",
      "gender male\n"
     ]
    }
   ],
   "source": [
    "for i in d1:\n",
    "    print(i,d1[i])"
   ]
  },
  {
   "cell_type": "markdown",
   "id": "9f0d925e",
   "metadata": {},
   "source": [
    "1) program to print the username before @\n",
    "2) program to convert a sentence to titlecase without title or capitalize\n",
    "3) we have a 2d list and we need to convert it into 1d list (Flatenning the list)\n",
    "4) remove the duplicate items in a list\n",
    "5) user input a number and yes or no output on a basis if there there is a repetetion of digit in it. \n",
    "6) The word that has used the most in a song print it out.  "
   ]
  },
  {
   "cell_type": "markdown",
   "id": "dd0bd9b3",
   "metadata": {},
   "source": [
    "# Program 1\n",
    "### program to print the username before @"
   ]
  },
  {
   "cell_type": "code",
   "execution_count": 231,
   "id": "a633a3af",
   "metadata": {},
   "outputs": [
    {
     "name": "stdout",
     "output_type": "stream",
     "text": [
      "Please enter your username22shrayan@gmail.com\n",
      "Username without the domain:  22shrayan\n"
     ]
    }
   ],
   "source": [
    "raw_username = input('Please enter your username')\n",
    "new_username = raw_username.split(\"@\")[0]\n",
    "print('Username without the domain: ',new_username)"
   ]
  },
  {
   "cell_type": "markdown",
   "id": "0e31f46e",
   "metadata": {},
   "source": [
    "# Program 2\n",
    "### program to convert a sentence to titlecase without title or capitalize"
   ]
  },
  {
   "cell_type": "code",
   "execution_count": 243,
   "id": "ad695f4a",
   "metadata": {},
   "outputs": [
    {
     "name": "stdout",
     "output_type": "stream",
     "text": [
      "please enter a sentence in all lowercase :my name is shrayan\n"
     ]
    },
    {
     "ename": "NameError",
     "evalue": "name 'titlecase_sentence' is not defined",
     "output_type": "error",
     "traceback": [
      "\u001b[0;31m---------------------------------------------------------------------------\u001b[0m",
      "\u001b[0;31mNameError\u001b[0m                                 Traceback (most recent call last)",
      "\u001b[0;32m<ipython-input-243-4194bc9a2a1f>\u001b[0m in \u001b[0;36m<module>\u001b[0;34m\u001b[0m\n\u001b[1;32m      1\u001b[0m \u001b[0msentence\u001b[0m \u001b[0;34m=\u001b[0m \u001b[0minput\u001b[0m\u001b[0;34m(\u001b[0m\u001b[0;34m'please enter a sentence in all lowercase :'\u001b[0m\u001b[0;34m)\u001b[0m\u001b[0;34m\u001b[0m\u001b[0;34m\u001b[0m\u001b[0m\n\u001b[0;32m----> 2\u001b[0;31m \u001b[0mprint\u001b[0m \u001b[0;34m(\u001b[0m\u001b[0;34m'Titlecase Sentence: '\u001b[0m\u001b[0;34m,\u001b[0m \u001b[0mtitlecase_sentence\u001b[0m\u001b[0;34m)\u001b[0m\u001b[0;34m\u001b[0m\u001b[0;34m\u001b[0m\u001b[0m\n\u001b[0m",
      "\u001b[0;31mNameError\u001b[0m: name 'titlecase_sentence' is not defined"
     ]
    }
   ],
   "source": [
    "sentence = input('please enter a sentence in all lowercase :')\n",
    "print ('Titlecase Sentence: ', titlecase_sentence)"
   ]
  },
  {
   "cell_type": "markdown",
   "id": "b8c42f7b",
   "metadata": {},
   "source": [
    "# Program 3\n",
    "### we have a 2d list and we need to convert it into 1d list (Flatenning the list)"
   ]
  },
  {
   "cell_type": "code",
   "execution_count": 252,
   "id": "f956f12d",
   "metadata": {},
   "outputs": [
    {
     "name": "stdout",
     "output_type": "stream",
     "text": [
      "Flattened list :  [1, 2, 3, 4, 5, 6, 7, 8]\n"
     ]
    }
   ],
   "source": [
    "user_list = [[1,2,3],[4,5],[6,7,8]]\n",
    "flattened_list = []\n",
    "for sublist in user_list:\n",
    "    for num in sublist:\n",
    "        flattened_list.append(num)\n",
    "\n",
    "print(\"Flattened list : \",flattened_list)"
   ]
  },
  {
   "cell_type": "markdown",
   "id": "4e79d5a0",
   "metadata": {},
   "source": [
    "# Program 4\n",
    "### remove the duplicate items in a list"
   ]
  },
  {
   "cell_type": "code",
   "execution_count": 267,
   "id": "11a5e1ed",
   "metadata": {},
   "outputs": [
    {
     "name": "stdout",
     "output_type": "stream",
     "text": [
      "User list is:   [1, 1, 1, 3, 2, 4, 5, 5, 5, 6, 7, 8, 9, 9, 9]\n",
      "Final List is :  [1, 3, 2, 4, 5, 6, 7, 8, 9]\n"
     ]
    }
   ],
   "source": [
    "user_list=[1,1,1,3,2,4,5,5,5,6,7,8,9,9,9]  \n",
    "print(\"User list is:  \",user_list)  \n",
    "final_list=[]  \n",
    "for i in user_list:  \n",
    "    if i not in final_list:  \n",
    "        final_list.append(i)  \n",
    "print(\"Final List is : \",final_list)  "
   ]
  },
  {
   "cell_type": "markdown",
   "id": "012d4331",
   "metadata": {},
   "source": [
    "# Program 5\n",
    "### user input a number and yes or no output on a basis if there there is a repetetion of a digit in it. "
   ]
  },
  {
   "cell_type": "code",
   "execution_count": null,
   "id": "e7590864",
   "metadata": {},
   "outputs": [],
   "source": [
    "user_input = 1223"
   ]
  },
  {
   "cell_type": "code",
   "execution_count": null,
   "id": "5a9be18f",
   "metadata": {},
   "outputs": [],
   "source": []
  },
  {
   "cell_type": "code",
   "execution_count": null,
   "id": "5c036163",
   "metadata": {},
   "outputs": [],
   "source": []
  },
  {
   "cell_type": "code",
   "execution_count": null,
   "id": "d6b7ca8d",
   "metadata": {},
   "outputs": [],
   "source": []
  },
  {
   "cell_type": "code",
   "execution_count": null,
   "id": "15bed7df",
   "metadata": {},
   "outputs": [],
   "source": []
  }
 ],
 "metadata": {
  "kernelspec": {
   "display_name": "Python 3",
   "language": "python",
   "name": "python3"
  },
  "language_info": {
   "codemirror_mode": {
    "name": "ipython",
    "version": 3
   },
   "file_extension": ".py",
   "mimetype": "text/x-python",
   "name": "python",
   "nbconvert_exporter": "python",
   "pygments_lexer": "ipython3",
   "version": "3.8.8"
  }
 },
 "nbformat": 4,
 "nbformat_minor": 5
}
