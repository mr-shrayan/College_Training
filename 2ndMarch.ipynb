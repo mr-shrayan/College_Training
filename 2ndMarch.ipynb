{
 "cells": [
  {
   "cell_type": "code",
   "execution_count": 1,
   "id": "66c7e9bb",
   "metadata": {},
   "outputs": [],
   "source": [
    "# literals\n",
    "# if-Else\n",
    "# loops\n",
    "# modules \n",
    "# break and continue and pass\n",
    "# strings"
   ]
  },
  {
   "cell_type": "markdown",
   "id": "5d9076e3",
   "metadata": {},
   "source": [
    "# 1) Literals"
   ]
  },
  {
   "cell_type": "code",
   "execution_count": 6,
   "id": "bb19b981",
   "metadata": {},
   "outputs": [],
   "source": [
    "a,b,c = 4,7,1"
   ]
  },
  {
   "cell_type": "code",
   "execution_count": 7,
   "id": "7f8b9600",
   "metadata": {},
   "outputs": [
    {
     "data": {
      "text/plain": [
       "4"
      ]
     },
     "execution_count": 7,
     "metadata": {},
     "output_type": "execute_result"
    }
   ],
   "source": [
    "a"
   ]
  },
  {
   "cell_type": "code",
   "execution_count": 8,
   "id": "c4c54b67",
   "metadata": {},
   "outputs": [
    {
     "data": {
      "text/plain": [
       "7"
      ]
     },
     "execution_count": 8,
     "metadata": {},
     "output_type": "execute_result"
    }
   ],
   "source": [
    "b"
   ]
  },
  {
   "cell_type": "code",
   "execution_count": 9,
   "id": "b4ab02c7",
   "metadata": {},
   "outputs": [
    {
     "data": {
      "text/plain": [
       "1"
      ]
     },
     "execution_count": 9,
     "metadata": {},
     "output_type": "execute_result"
    }
   ],
   "source": [
    "c"
   ]
  },
  {
   "cell_type": "code",
   "execution_count": 10,
   "id": "99d9376a",
   "metadata": {},
   "outputs": [],
   "source": [
    "a=b=c=6"
   ]
  },
  {
   "cell_type": "code",
   "execution_count": 11,
   "id": "d5968ed6",
   "metadata": {},
   "outputs": [
    {
     "data": {
      "text/plain": [
       "6"
      ]
     },
     "execution_count": 11,
     "metadata": {},
     "output_type": "execute_result"
    }
   ],
   "source": [
    "a"
   ]
  },
  {
   "cell_type": "code",
   "execution_count": 12,
   "id": "ae719ab4",
   "metadata": {},
   "outputs": [
    {
     "data": {
      "text/plain": [
       "6"
      ]
     },
     "execution_count": 12,
     "metadata": {},
     "output_type": "execute_result"
    }
   ],
   "source": [
    "b"
   ]
  },
  {
   "cell_type": "code",
   "execution_count": 13,
   "id": "c721abf4",
   "metadata": {},
   "outputs": [
    {
     "data": {
      "text/plain": [
       "6"
      ]
     },
     "execution_count": 13,
     "metadata": {},
     "output_type": "execute_result"
    }
   ],
   "source": [
    "c"
   ]
  },
  {
   "cell_type": "code",
   "execution_count": 15,
   "id": "8336d101",
   "metadata": {},
   "outputs": [
    {
     "data": {
      "text/plain": [
       "4"
      ]
     },
     "execution_count": 15,
     "metadata": {},
     "output_type": "execute_result"
    }
   ],
   "source": [
    "a = 0b100 # binary\n",
    "a"
   ]
  },
  {
   "cell_type": "code",
   "execution_count": 16,
   "id": "928ac031",
   "metadata": {},
   "outputs": [
    {
     "data": {
      "text/plain": [
       "256"
      ]
     },
     "execution_count": 16,
     "metadata": {},
     "output_type": "execute_result"
    }
   ],
   "source": [
    "b = 0x100 # hexa\n",
    "b"
   ]
  },
  {
   "cell_type": "code",
   "execution_count": 17,
   "id": "8b20935b",
   "metadata": {},
   "outputs": [
    {
     "data": {
      "text/plain": [
       "64"
      ]
     },
     "execution_count": 17,
     "metadata": {},
     "output_type": "execute_result"
    }
   ],
   "source": [
    "c = 0o100 # Octadecimal\n",
    "c"
   ]
  },
  {
   "cell_type": "code",
   "execution_count": 21,
   "id": "f2bdfadb",
   "metadata": {},
   "outputs": [],
   "source": [
    "c = 'haldia'\n",
    "\n",
    "d = \"haldia1\"\n",
    "\n",
    "e = \"\"\"Haldia2\"\"\""
   ]
  },
  {
   "cell_type": "code",
   "execution_count": 22,
   "id": "379f3390",
   "metadata": {},
   "outputs": [
    {
     "data": {
      "text/plain": [
       "'haldia'"
      ]
     },
     "execution_count": 22,
     "metadata": {},
     "output_type": "execute_result"
    }
   ],
   "source": [
    "c"
   ]
  },
  {
   "cell_type": "code",
   "execution_count": 23,
   "id": "cbf3ba25",
   "metadata": {},
   "outputs": [
    {
     "data": {
      "text/plain": [
       "'haldia1'"
      ]
     },
     "execution_count": 23,
     "metadata": {},
     "output_type": "execute_result"
    }
   ],
   "source": [
    "d"
   ]
  },
  {
   "cell_type": "code",
   "execution_count": 24,
   "id": "0d09cf7b",
   "metadata": {},
   "outputs": [
    {
     "data": {
      "text/plain": [
       "'Haldia2'"
      ]
     },
     "execution_count": 24,
     "metadata": {},
     "output_type": "execute_result"
    }
   ],
   "source": [
    "e"
   ]
  },
  {
   "cell_type": "code",
   "execution_count": 25,
   "id": "89266e8d",
   "metadata": {},
   "outputs": [],
   "source": [
    "x = None #way to declare variables in python"
   ]
  },
  {
   "cell_type": "code",
   "execution_count": 26,
   "id": "66c1665e",
   "metadata": {},
   "outputs": [],
   "source": [
    "x"
   ]
  },
  {
   "cell_type": "markdown",
   "id": "e74fab9a",
   "metadata": {},
   "source": [
    "# 2) If-else"
   ]
  },
  {
   "cell_type": "code",
   "execution_count": 31,
   "id": "8bf92a60",
   "metadata": {},
   "outputs": [
    {
     "name": "stdout",
     "output_type": "stream",
     "text": [
      "Please Enter the email: abc@gmail.cm\n",
      "Please enter the password: afafd\n",
      "Wrong username or password entered. Please enter again.\n"
     ]
    }
   ],
   "source": [
    "right_email = 'abc@gmail.com'\n",
    "right_password = '1234'\n",
    "\n",
    "user_email = input('Please Enter the email: ')\n",
    "user_passwrod = input('Please enter the password: ')\n",
    "\n",
    "if right_email==user_email and right_password==user_passwrod:\n",
    "    print(\"Welcome\")\n",
    "else:\n",
    "    print(\"Wrong username or password entered. Please enter again.\")\n",
    "    "
   ]
  },
  {
   "cell_type": "code",
   "execution_count": 1,
   "id": "3f52f70c",
   "metadata": {},
   "outputs": [
    {
     "name": "stdout",
     "output_type": "stream",
     "text": [
      "Please Enter the email: abc@gmail.com\n",
      "Please enter the password: 1234\n",
      "Welcome\n"
     ]
    }
   ],
   "source": [
    "right_email = 'abc@gmail.com'\n",
    "right_password = '1234'\n",
    "\n",
    "user_email = input('Please Enter the email: ')\n",
    "user_passwrod = input('Please enter the password: ')\n",
    "\n",
    "if right_email==user_email and right_password==user_passwrod:\n",
    "    print(\"Welcome\")\n",
    "else:\n",
    "    print(\"Wrong username or password entered. Please enter again.\")"
   ]
  },
  {
   "cell_type": "code",
   "execution_count": 5,
   "id": "b6a0531f",
   "metadata": {},
   "outputs": [
    {
     "name": "stdout",
     "output_type": "stream",
     "text": [
      "Please Enter the email: abc@gmail.com\n",
      "Please enter the password: 1121\n",
      "Password incorrect\n",
      "Please Reenter password\n",
      "Please enter the password: 1234\n",
      "Welcome\n"
     ]
    }
   ],
   "source": [
    "right_email = 'abc@gmail.com'\n",
    "right_password = '1234'\n",
    "\n",
    "user_email = input('Please Enter the email: ')\n",
    "user_passwrod = input('Please enter the password: ')\n",
    "\n",
    "if right_email==user_email and right_password==user_passwrod:\n",
    "    print(\"Welcome\")\n",
    "elif right_email==user_email and right_password!=user_passwrod:\n",
    "    print('Password incorrect')\n",
    "    print('Please Reenter password')\n",
    "    user_passwrod = input('Please enter the password: ')\n",
    "    if right_password==user_passwrod:\n",
    "        print(\"Welcome\")\n",
    "    else:\n",
    "        print(\"Wrong password again\")\n",
    "else:\n",
    "    print(\"Wrong username or password entered. Please enter again.\")"
   ]
  },
  {
   "cell_type": "markdown",
   "id": "75759164",
   "metadata": {},
   "source": [
    "# While Loop"
   ]
  },
  {
   "cell_type": "code",
   "execution_count": 16,
   "id": "bb387e05",
   "metadata": {},
   "outputs": [
    {
     "name": "stdout",
     "output_type": "stream",
     "text": [
      "Enter a number 5\n",
      "5 * 1 = 5\n",
      "5 * 2 = 10\n",
      "5 * 3 = 15\n",
      "5 * 4 = 20\n",
      "5 * 5 = 25\n",
      "5 * 6 = 30\n",
      "5 * 7 = 35\n",
      "5 * 8 = 40\n",
      "5 * 9 = 45\n",
      "5 * 10 = 50\n"
     ]
    }
   ],
   "source": [
    "num= int(input('Enter a number '))\n",
    "i = 1\n",
    "\n",
    "while i <11:\n",
    "    print(num,\"*\",i,\"=\", num*i)\n",
    "    i +=1"
   ]
  },
  {
   "cell_type": "markdown",
   "id": "60506ccb",
   "metadata": {},
   "source": [
    "# For loop"
   ]
  },
  {
   "cell_type": "code",
   "execution_count": 19,
   "id": "b5789e47",
   "metadata": {},
   "outputs": [
    {
     "name": "stdout",
     "output_type": "stream",
     "text": [
      "1\n",
      "2\n",
      "3\n",
      "4\n",
      "5\n",
      "6\n",
      "7\n",
      "8\n",
      "9\n",
      "10\n"
     ]
    }
   ],
   "source": [
    "for i in range (1,11):\n",
    "    print (i)\n",
    "    "
   ]
  },
  {
   "cell_type": "code",
   "execution_count": 20,
   "id": "2862b963",
   "metadata": {},
   "outputs": [
    {
     "name": "stdout",
     "output_type": "stream",
     "text": [
      "15\n",
      "16\n",
      "17\n",
      "18\n",
      "19\n",
      "20\n",
      "21\n",
      "22\n",
      "23\n",
      "24\n",
      "25\n"
     ]
    }
   ],
   "source": [
    "for i in range (15,26):\n",
    "    print (i)"
   ]
  },
  {
   "cell_type": "code",
   "execution_count": 21,
   "id": "16c868fe",
   "metadata": {},
   "outputs": [
    {
     "name": "stdout",
     "output_type": "stream",
     "text": [
      "15\n",
      "17\n",
      "19\n",
      "21\n",
      "23\n",
      "25\n"
     ]
    }
   ],
   "source": [
    "for i in range (15,26,2):\n",
    "    print (i)"
   ]
  },
  {
   "cell_type": "code",
   "execution_count": 22,
   "id": "58c527fc",
   "metadata": {},
   "outputs": [
    {
     "name": "stdout",
     "output_type": "stream",
     "text": [
      "10\n",
      "9\n",
      "8\n",
      "7\n",
      "6\n",
      "5\n",
      "4\n",
      "3\n",
      "2\n",
      "1\n"
     ]
    }
   ],
   "source": [
    "for i in range (10,0,-1):\n",
    "    print (i)"
   ]
  },
  {
   "cell_type": "code",
   "execution_count": 23,
   "id": "2a27cccd",
   "metadata": {},
   "outputs": [
    {
     "name": "stdout",
     "output_type": "stream",
     "text": [
      "10\n",
      "8\n",
      "6\n",
      "4\n",
      "2\n"
     ]
    }
   ],
   "source": [
    "for i in range (10,0,-2):\n",
    "    print (i)"
   ]
  },
  {
   "cell_type": "code",
   "execution_count": 24,
   "id": "ca3e0a4e",
   "metadata": {},
   "outputs": [
    {
     "name": "stdout",
     "output_type": "stream",
     "text": [
      "h\n",
      "a\n",
      "l\n",
      "d\n",
      "i\n",
      "a\n"
     ]
    }
   ],
   "source": [
    "for i in 'haldia':\n",
    "    print (i)"
   ]
  },
  {
   "cell_type": "code",
   "execution_count": null,
   "id": "3c990f32",
   "metadata": {},
   "outputs": [],
   "source": [
    "# print a pattern on the screen \n",
    "*\n",
    "**\n",
    "***\n",
    "****\n",
    "*****\n",
    "User input number of rows.\n",
    "\n",
    "# creating a guessing game \n",
    "\n",
    "# kutta aur murgi \n",
    "total number of heads\n",
    "total number of legs. "
   ]
  },
  {
   "cell_type": "code",
   "execution_count": 27,
   "id": "f6993d07",
   "metadata": {},
   "outputs": [
    {
     "name": "stdout",
     "output_type": "stream",
     "text": [
      "Enter number of rows6\n",
      "* \n",
      "* * \n",
      "* * * \n",
      "* * * * \n",
      "* * * * * \n",
      "* * * * * * \n"
     ]
    }
   ],
   "source": [
    "# number of rows\n",
    "rows = int(input('Enter number of rows'))\n",
    "for i in range(0, rows):\n",
    "    for j in range(0, i + 1):\n",
    "        print(\"*\", end=' ')\n",
    "    print(\"\\r\")\n",
    "\n"
   ]
  },
  {
   "cell_type": "code",
   "execution_count": 28,
   "id": "146721f5",
   "metadata": {},
   "outputs": [],
   "source": [
    "import random\n",
    "import math"
   ]
  },
  {
   "cell_type": "code",
   "execution_count": 39,
   "id": "22efb604",
   "metadata": {},
   "outputs": [
    {
     "name": "stdout",
     "output_type": "stream",
     "text": [
      "\n",
      "\tYou've only 10 chances to guess the integer!\n",
      "\n",
      "Guess a number:- 50\n",
      "Thora neeche guess karo!\n",
      "Guess a number:- 25\n",
      "Thora zyada guess karo!\n",
      "Guess a number:- 35\n",
      "Thora neeche guess karo!\n",
      "Guess a number:- 30\n",
      "Thora neeche guess karo!\n",
      "Guess a number:- 27\n",
      " Wah Bete Wah just  5  tries mai ans bata diya tum ne\n"
     ]
    }
   ],
   "source": [
    "x = random.randint(1, 100)\n",
    "print(\"\\n\\tYou've only 10 chances to guess the integer!\\n\")\n",
    "count = 0\n",
    "\n",
    "while count < 10: # minimum numer pof guess calculation \n",
    "    count += 1\n",
    "    guess = int(input(\"Guess a number:- \")) #user input for guess\n",
    "    if x == guess:\n",
    "        print(\" Wah Bete Wah just \",\n",
    "              count, \" tries mai ans bata diya tum ne\")\n",
    "        break\n",
    "    elif x > guess:\n",
    "        print(\"Thora zyada guess karo!\")\n",
    "    elif x < guess:\n",
    "        print(\"Thora neeche guess karo!\")\n",
    "if count >= 10:# after exhausitng all the guesses then the result will be displayed. \n",
    "    print(\"\\nThe number is %d\" % x)"
   ]
  },
  {
   "cell_type": "markdown",
   "id": "3fad6eab",
   "metadata": {},
   "source": [
    "# Strings"
   ]
  },
  {
   "cell_type": "code",
   "execution_count": 40,
   "id": "e84aa426",
   "metadata": {},
   "outputs": [],
   "source": [
    "#create\n",
    "#access\n",
    "#edit\n",
    "#delete\n",
    "#operations\n",
    "#functions\n"
   ]
  },
  {
   "cell_type": "code",
   "execution_count": null,
   "id": "0b1667d1",
   "metadata": {},
   "outputs": [],
   "source": []
  },
  {
   "cell_type": "code",
   "execution_count": null,
   "id": "d527c516",
   "metadata": {},
   "outputs": [],
   "source": []
  },
  {
   "cell_type": "code",
   "execution_count": null,
   "id": "0ec78a7d",
   "metadata": {},
   "outputs": [],
   "source": []
  },
  {
   "cell_type": "code",
   "execution_count": null,
   "id": "bfea25f5",
   "metadata": {},
   "outputs": [],
   "source": []
  },
  {
   "cell_type": "code",
   "execution_count": null,
   "id": "5401e168",
   "metadata": {},
   "outputs": [],
   "source": []
  }
 ],
 "metadata": {
  "kernelspec": {
   "display_name": "Python 3",
   "language": "python",
   "name": "python3"
  },
  "language_info": {
   "codemirror_mode": {
    "name": "ipython",
    "version": 3
   },
   "file_extension": ".py",
   "mimetype": "text/x-python",
   "name": "python",
   "nbconvert_exporter": "python",
   "pygments_lexer": "ipython3",
   "version": "3.8.8"
  }
 },
 "nbformat": 4,
 "nbformat_minor": 5
}
